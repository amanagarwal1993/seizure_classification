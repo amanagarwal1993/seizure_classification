{
 "cells": [
  {
   "cell_type": "code",
   "execution_count": 1,
   "metadata": {},
   "outputs": [
    {
     "name": "stderr",
     "output_type": "stream",
     "text": [
      "C:\\Users\\eesha\\Anaconda3\\lib\\site-packages\\sklearn\\utils\\validation.py:475: DataConversionWarning: Data with input dtype int32 was converted to float64 by StandardScaler.\n",
      "  warnings.warn(msg, DataConversionWarning)\n"
     ]
    },
    {
     "name": "stdout",
     "output_type": "stream",
     "text": [
      "data shape (200, 5000, 96, 1)\n",
      "testX (15, 5000, 96, 1)\n",
      "[1. 0. 1. 0. 0. 1. 1. 1. 1. 0. 1. 0. 0. 1. 0.]\n"
     ]
    }
   ],
   "source": [
    "#LOAD DATA\n",
    "import scipy.io as sio\n",
    "import numpy as np\n",
    "import random\n",
    "from sklearn.preprocessing import StandardScaler\n",
    "from sklearn.preprocessing import MinMaxScaler\n",
    "\n",
    "scaler = StandardScaler()\n",
    "scaler2 = MinMaxScaler(feature_range=(-1, 1))\n",
    "\n",
    "num_sample = 200\n",
    "samp_freq = 5000\n",
    "num_chan = 96\n",
    "X = np.zeros((num_sample, samp_freq, num_chan))\n",
    "Y = np.zeros(num_sample)\n",
    "for i in range(1,num_sample//3 + 1):\n",
    "    file = sio.loadmat('data/patient_1/non-ictal-train/patient_1_%d.mat' % i)\n",
    "#     file = sio.loadmat('data\\patient_1\\non-ictal train\\patient_1_%d.mat' %i)\n",
    "    data = file['data']\n",
    "    data = scaler.fit_transform(data)\n",
    "    data = scaler2.fit_transform(data)\n",
    "    X[i-1,:,:] = data\n",
    "    Y[i-1] = 0\n",
    "j = 1\n",
    "for i in range(num_sample//3+1,num_sample +1):\n",
    "    file = sio.loadmat('data/patient_1/ictal train/patient_1_%d.mat' % j)\n",
    "    data = file['data']\n",
    "    data = scaler.fit_transform(data)\n",
    "    data = scaler2.fit_transform(data)\n",
    "    X[i-1,:,:] = data\n",
    "    Y[i-1] = 1\n",
    "    j = j+1\n",
    "\n",
    "#SHUFFLE DATA\n",
    "indices = np.arange(Y.shape[0])\n",
    "np.random.shuffle(indices)\n",
    "Y = Y[indices]\n",
    "X = X[indices, :, :]\n",
    "X = X.reshape(X.shape[0],X.shape[1],X.shape[2],1)\n",
    "print(\"data shape\",X.shape)\n",
    "# print(Y)\n",
    "\n",
    "#Test data\n",
    "num_test = 15\n",
    "samp_freq = 5000\n",
    "num_chan = 96\n",
    "testX = np.zeros((num_test, samp_freq, num_chan))\n",
    "testY = np.zeros(num_test)\n",
    "for i in range(1,num_test//2 + 1 ):\n",
    "    r = random.randint(200,218)\n",
    "    file = sio.loadmat('data/patient_1/non-ictal-train/patient_1_%d.mat' % r)\n",
    "    data = file['data']\n",
    "    data = scaler.transform(data)\n",
    "    data = scaler2.transform(data)\n",
    "    testX[i-1,:,:] = data\n",
    "    testY[i-1] = 0\n",
    "j = 1\n",
    "for i in range(num_test//2+1,num_test +1):\n",
    "    r = random.randint(200,218)\n",
    "    file = sio.loadmat('data/patient_1/ictal train/patient_1_%d.mat' % r)\n",
    "    data = file['data']\n",
    "    data = scaler.transform(data)\n",
    "    data = scaler2.transform(data)\n",
    "    testX[i-1,:,:] = data\n",
    "    testY[i-1] = 1\n",
    "    j = j+1\n",
    "    \n",
    "indices = np.arange(testY.shape[0])\n",
    "np.random.shuffle(indices)\n",
    "testY = testY[indices]\n",
    "testX = testX[indices, :, :]\n",
    "testX = testX.reshape(testX.shape[0],testX.shape[1],testX.shape[2],1)\n",
    "# valX = testX[0:7,:,:,:]\n",
    "# valY = testY[0:7]\n",
    "# testX = testX[7:15,:,:,:]\n",
    "# testY = testY[7:15]\n",
    "# print('valX',valX.shape)\n",
    "print('testX',testX.shape)\n",
    "print(testY)\n"
   ]
  },
  {
   "cell_type": "code",
   "execution_count": 5,
   "metadata": {},
   "outputs": [
    {
     "name": "stdout",
     "output_type": "stream",
     "text": [
      "Train on 190 samples, validate on 10 samples\n",
      "Epoch 1/5\n",
      "190/190 [==============================] - 587s 3s/step - loss: 0.3928 - acc: 0.6263 - val_loss: 0.1000 - val_acc: 0.9000\n",
      "Epoch 2/5\n",
      "190/190 [==============================] - 591s 3s/step - loss: 0.3421 - acc: 0.6579 - val_loss: 0.1000 - val_acc: 0.9000\n",
      "Epoch 3/5\n",
      "190/190 [==============================] - 572s 3s/step - loss: 0.3421 - acc: 0.6579 - val_loss: 0.1000 - val_acc: 0.9000\n",
      "Epoch 4/5\n",
      "190/190 [==============================] - 578s 3s/step - loss: 0.3421 - acc: 0.6579 - val_loss: 0.1000 - val_acc: 0.9000\n"
     ]
    },
    {
     "data": {
      "image/png": "[encoded data removed]",
      "text/plain": [
       "<Figure size 432x288 with 1 Axes>"
      ]
     },
     "metadata": {},
     "output_type": "display_data"
    },
    {
     "name": "stdout",
     "output_type": "stream",
     "text": [
      "[[1.]\n",
      " [1.]\n",
      " [1.]\n",
      " [1.]\n",
      " [1.]\n",
      " [1.]\n",
      " [1.]\n",
      " [1.]\n",
      " [1.]\n",
      " [1.]\n",
      " [1.]\n",
      " [1.]\n",
      " [1.]\n",
      " [1.]\n",
      " [1.]]\n"
     ]
    },
    {
     "data": {
      "image/png": "[encoded data removed]",
      "text/plain": [
       "<Figure size 432x288 with 1 Axes>"
      ]
     },
     "metadata": {},
     "output_type": "display_data"
    }
   ],
   "source": [
    "from keras.models import Sequential\n",
    "from keras.layers import Dense, Conv2D, Flatten, MaxPooling2D, Dropout\n",
    "from keras.callbacks import EarlyStopping\n",
    "import matplotlib.pyplot as plt\n",
    "\n",
    "#create model\n",
    "model = Sequential()\n",
    "#add model layers\n",
    "model.add(Conv2D(64, kernel_size=7, activation= 'relu', input_shape=(5000,96,1))) #0\n",
    "model.add(MaxPooling2D(pool_size=(5, 5), strides=(2, 2)))\n",
    "model.add(Conv2D(64, (5, 5), activation='relu'))\n",
    "model.add(MaxPooling2D(pool_size=(5, 5), strides=(2, 2)))\n",
    "model.add(Conv2D(64, (5, 5), activation='relu'))\n",
    "# model.add(Dropout(0.5))\n",
    "model.add(MaxPooling2D(pool_size=(5, 5)))\n",
    "#OUTPUT 1: LAYER 5 output\n",
    "model.add(Dropout(0.5))\n",
    "#OUTPUT 2: LAYER 6 output\n",
    "model.add(Flatten())\n",
    "#OUTPUT 3: LAYER 7 output\n",
    "model.add(Dense(1, activation='sigmoid')) #BINARY CLASSIFICATION\n",
    "#OUTPUT 4: LAYER 8 output\n",
    "model.compile(loss='hinge', optimizer='adam', metrics=['accuracy'])\n",
    "callbacks = [EarlyStopping(monitor='val_loss', min_delta=0.04,patience=3, restore_best_weights=True)]\n",
    "history = model.fit(X, Y, callbacks= callbacks, validation_split=0.05, epochs=5) #squared_hinge #categorical_hinge #batch_size=64,\n",
    "\n",
    "plt.plot(history.history['acc'])\n",
    "plt.plot(history.history['val_acc'])\n",
    "plt.title('Model accuracy')\n",
    "plt.ylabel('Accuracy')\n",
    "plt.xlabel('Epoch')\n",
    "plt.legend(['Train', 'Test'], loc='upper left')\n",
    "plt.show()\n",
    "\n",
    "# Plot training & validation loss values\n",
    "plt.plot(history.history['loss'])\n",
    "plt.plot(history.history['val_loss'])\n",
    "plt.title('Model loss')\n",
    "plt.ylabel('Loss')\n",
    "plt.xlabel('Epoch')\n",
    "plt.legend(['Train', 'Test'], loc='upper left')"
   ]
  },
  {
   "cell_type": "code",
   "execution_count": null,
   "metadata": {},
   "outputs": [
    {
     "name": "stdout",
     "output_type": "stream",
     "text": [
      "Real labels [1. 0. 1. 0. 0. 1. 1. 1. 1. 0. 1. 0. 0. 1. 0.]\n",
      "CNN prediction [[1.]\n",
      " [1.]\n",
      " [1.]\n",
      " [1.]\n",
      " [1.]\n",
      " [1.]\n",
      " [1.]\n",
      " [1.]\n",
      " [1.]\n",
      " [1.]\n",
      " [1.]\n",
      " [1.]\n",
      " [1.]\n",
      " [1.]\n",
      " [1.]]\n",
      "CNN prediction: floor [[ True]\n",
      " [ True]\n",
      " [ True]\n",
      " [ True]\n",
      " [ True]\n",
      " [ True]\n",
      " [ True]\n",
      " [ True]\n",
      " [ True]\n",
      " [ True]\n",
      " [ True]\n",
      " [ True]\n",
      " [ True]\n",
      " [ True]\n",
      " [ True]]\n",
      "CNN prediction: threshold [[ True]\n",
      " [ True]\n",
      " [ True]\n",
      " [ True]\n",
      " [ True]\n",
      " [ True]\n",
      " [ True]\n",
      " [ True]\n",
      " [ True]\n",
      " [ True]\n",
      " [ True]\n",
      " [ True]\n",
      " [ True]\n",
      " [ True]\n",
      " [ True]]\n",
      "(15, 248, 2, 64)\n"
     ]
    }
   ],
   "source": [
    "print('Real labels', testY)\n",
    "print('CNN prediction',model.predict(testX))\n",
    "print('CNN prediction: floor', model.predict(testX) >= 1)\n",
    "print('CNN prediction: threshold', model.predict(testX) >= 0.7)\n",
    "\n",
    "from keras import backend as K\n",
    "from sklearn.preprocessing import StandardScaler\n",
    "from sklearn.preprocessing import MinMaxScaler\n",
    "from sklearn import svm\n",
    "\n",
    "scaler = StandardScaler()\n",
    "scaler2 = MinMaxScaler(feature_range=(-1, 1))\n",
    "scaler3 =  MinMaxScaler(feature_range=(0, 1))\n",
    "\n",
    "get_5th_layer_output = K.function([model.layers[0].input, K.learning_phase()],\n",
    "                                  [model.layers[5].output])\n",
    "# output in test mode = 0\n",
    "layer_output = get_5th_layer_output([testX, 0])[0]\n",
    "print(layer_output.shape)\n",
    "\n",
    "# output in train mode = 1\n",
    "layer_output = get_5th_layer_output([X, 1])[0]\n",
    "print(layer_output.shape)\n",
    "\n",
    "for i in range(5,9):\n",
    "    get_layer_output = K.function([model.layers[0].input, K.learning_phase()],\n",
    "                                  [model.layers[i].output])\n",
    "    layer_output = get_5th_layer_output([x, 0])[0]\n",
    "    layeroutput1 = scaler.fit_transform(layer_output)\n",
    "    layeroutput2 = scaler2.fit_transform(layer_output)\n",
    "    layeroutput3 = scaler3.fit_transform(layer_output)\n",
    "    \n",
    "    #SVM CLASSIFCIATION\n",
    "    clf = svm.SVC() #gamma='auto'\n",
    "    clf.fit(layeroutput1, Y) \n",
    "    print()\n",
    "    \n",
    "    #LOG REGRESSION\n",
    "    #RANDOM FOREST"
   ]
  },
  {
   "cell_type": "code",
   "execution_count": 3,
   "metadata": {},
   "outputs": [
    {
     "data": {
      "text/plain": [
       "'MODEL TRAINING'"
      ]
     },
     "execution_count": 3,
     "metadata": {},
     "output_type": "execute_result"
    }
   ],
   "source": [
    "##ANALYSIS: As of now, true = floor(predictions) =>100% accuracy\n",
    "'''PREPROCESSING'''\n",
    "#1) validation split size = 0.15 3) batch size 4) include more points from non ictal !!!balanced data vs non balanced\n",
    "'''MODEL STRUCTURE'''\n",
    "#1) increase dropout layer, kernel size, pooling layers\n",
    "#2) Try adding SVM, log regression, random forest, Kalman filter (seperately first, then with CNN)\n",
    "\n",
    "'''MODEL TRAINING'''\n",
    "#2) Bootstrapping & boosting"
   ]
  },
  {
   "cell_type": "code",
   "execution_count": 4,
   "metadata": {},
   "outputs": [],
   "source": [
    "import numpy as np\n",
    "a = np.array([0,1,2,3,4])\n",
    "b = np.array([5,6,7,8,9])\n",
    "\n",
    "indices = np.arange(a.shape[0])\n",
    "np.random.shuffle(indices)\n",
    "\n",
    "a = a[indices]\n",
    "b = b[indices]\n",
    "# a, array([3, 4, 1, 2, 0])\n",
    "# b, array([8, 9, 6, 7, 5])"
   ]
  }
 ],
 "metadata": {
  "kernelspec": {
   "display_name": "Python 3",
   "language": "python",
   "name": "python3"
  },
  "language_info": {
   "codemirror_mode": {
    "name": "ipython",
    "version": 3
   },
   "file_extension": ".py",
   "mimetype": "text/x-python",
   "name": "python",
   "nbconvert_exporter": "python",
   "pygments_lexer": "ipython3",
   "version": "3.6.5"
  }
 },
 "nbformat": 4,
 "nbformat_minor": 2
}
